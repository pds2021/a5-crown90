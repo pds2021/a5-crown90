{
  "nbformat": 4,
  "nbformat_minor": 0,
  "metadata": {
    "colab": {
      "name": "Assignment_5_WebApp.ipynb",
      "provenance": [],
      "collapsed_sections": [],
      "toc_visible": true,
      "authorship_tag": "ABX9TyNIF7phwWN4ujOsyVPsuRcn",
      "include_colab_link": true
    },
    "kernelspec": {
      "name": "python3",
      "display_name": "Python 3"
    },
    "accelerator": "GPU"
  },
  "cells": [
    {
      "cell_type": "markdown",
      "metadata": {
        "id": "view-in-github",
        "colab_type": "text"
      },
      "source": [
        "<a href=\"https://colab.research.google.com/github/pds2021/a5-crown90/blob/assignment_5/Assignment_5_WebApp.ipynb\" target=\"_parent\"><img src=\"https://colab.research.google.com/assets/colab-badge.svg\" alt=\"Open In Colab\"/></a>"
      ]
    },
    {
      "cell_type": "markdown",
      "metadata": {
        "id": "tj8p0N8Wl72i"
      },
      "source": [
        "# Rock Paper Scissors Lizard Spock "
      ]
    },
    {
      "cell_type": "markdown",
      "metadata": {
        "id": "yH0atkWHmIMT"
      },
      "source": [
        "### Gameplan"
      ]
    },
    {
      "cell_type": "markdown",
      "metadata": {
        "id": "po5t2ETnmMqE"
      },
      "source": [
        "1. The player has to start/allow the webcam\r\n",
        "2. The player adjusts an [ROCK/ PAPER/ SCISSORS/ LIZARD/ SPOCK] by hand\r\n",
        "3. The player has to push the [CAPTURE] button\r\n",
        "4. The AI player chooses one too and presents its choice to the player\r\n",
        "5. The winner will be promoted\r\n",
        "6. End of game "
      ]
    },
    {
      "cell_type": "markdown",
      "metadata": {
        "id": "h-v7at3gmTW-"
      },
      "source": [
        "### Game Rules"
      ]
    },
    {
      "cell_type": "markdown",
      "metadata": {
        "id": "gcAwmRASAzIs"
      },
      "source": [
        "1. scissors cuts paper\r\n",
        "2. paper covers rock\r\n",
        "3. rock crushes lizard\r\n",
        "4. lizard poisons spock\r\n",
        "5. spock smashes scissors\r\n",
        "6. scissors decapitates lizard\r\n",
        "7. lizard eats paper\r\n",
        "8. paper disproves spock\r\n",
        "9. spock vaporizes rock\r\n",
        "10. rock crushes scissors"
      ]
    },
    {
      "cell_type": "markdown",
      "metadata": {
        "id": "gMf2-lkFmfsb"
      },
      "source": [
        "### Hands"
      ]
    },
    {
      "cell_type": "markdown",
      "metadata": {
        "id": "NCrbJFDdmems"
      },
      "source": [
        "* SCISSORS: \r\n",
        "> index finger + middle finger\r\n",
        "* ROCK: \r\n",
        "> fist\r\n",
        "* PAPER:\r\n",
        "> flat hand\r\n",
        "* LIZARD: \r\n",
        "> index finger up, middle fingers down, pinky up, thumb in: </br> the standard rock 'n' roll salute\r\n",
        "* SPOCK: \r\n",
        "> vulcan salute"
      ]
    },
    {
      "cell_type": "markdown",
      "metadata": {
        "id": "kmoRrcueg89k"
      },
      "source": [
        "### Game code"
      ]
    },
    {
      "cell_type": "code",
      "metadata": {
        "id": "oAR7AhN0Wj7R"
      },
      "source": [
        "import random\r\n",
        "\r\n",
        "# Number-Hand-Mapping\r\n",
        "number_hand_map = {0:\"rock\", 1:\"paper\", 2:\"scissors\", 3:\"lizard\", 4:\"spock\"}\r\n",
        "hand_number_map = {v: k for k, v in number_hand_map.items()}\r\n",
        " \r\n",
        "# Number-Hand win-lose matrix\r\n",
        "win_lose_matrix = [[-1, 1, 0, 0, 4],[1, -1, 2, 3, 1], [0, 2, -1, 2, 4], [0, 3, 2, -1, 3], [4, 1, 4, 3, -1]]\r\n",
        "\r\n",
        "def play(player_hand_str):\r\n",
        "  player_hand_int = hand_number_map[player_hand_str]\r\n",
        "  \r\n",
        "  # Get the computer move randomly\r\n",
        "  computer_hand_int = random.randint(0, 4)\r\n",
        "\r\n",
        "  # Find the winner of the match\r\n",
        "  winner = win_lose_matrix[player_hand_int][computer_hand_int]\r\n",
        "\r\n",
        "  print(\"You choose\", number_hand_map[player_hand_int].upper())\r\n",
        "  print(\"Computer chooses\", number_hand_map[computer_hand_int].upper())\r\n",
        "\r\n",
        "  if winner == player_hand_int:\r\n",
        "    print(\"YOU WIN!\")\r\n",
        "  elif winner == computer_hand_int:\r\n",
        "    print(\"YOU LOSE! COMPUTER WINS!\")\r\n",
        "  else:\r\n",
        "    print(\"TIE!\")"
      ],
      "execution_count": 42,
      "outputs": []
    },
    {
      "cell_type": "code",
      "metadata": {
        "id": "zHSvyt5V-Jaw"
      },
      "source": [
        "from IPython.display import display, Javascript\r\n",
        "from google.colab.output import eval_js\r\n",
        "from base64 import b64decode\r\n",
        "\r\n",
        "def take_photo(filename='player_choice.jpg', quality=0.8):\r\n",
        "  js = Javascript('''\r\n",
        "    async function takePhoto(quality) {\r\n",
        "      const div = document.createElement('div');\r\n",
        "      const capture = document.createElement('button');\r\n",
        "      capture.textContent = 'Adjust your hand and click to CAPTURE';\r\n",
        "      div.appendChild(capture);\r\n",
        "\r\n",
        "      const video = document.createElement('video');\r\n",
        "      video.style.display = 'block';\r\n",
        "      const stream = await navigator.mediaDevices.getUserMedia({video: true});\r\n",
        "\r\n",
        "      document.body.appendChild(div);\r\n",
        "      div.appendChild(video);\r\n",
        "      video.srcObject = stream;\r\n",
        "      await video.play();\r\n",
        "\r\n",
        "      // Resize the output to fit the video element.\r\n",
        "      google.colab.output.setIframeHeight(document.documentElement.scrollHeight, true);\r\n",
        "\r\n",
        "      // Wait for Capture to be clicked.\r\n",
        "      await new Promise((resolve) => capture.onclick = resolve);\r\n",
        "\r\n",
        "      const canvas = document.createElement('canvas');\r\n",
        "      canvas.width = video.videoWidth;\r\n",
        "      canvas.height = video.videoHeight;\r\n",
        "      canvas.getContext('2d').drawImage(video, 0, 0);\r\n",
        "      stream.getVideoTracks()[0].stop();\r\n",
        "      div.remove();\r\n",
        "      return canvas.toDataURL('image/jpeg', quality);\r\n",
        "    }\r\n",
        "    ''')\r\n",
        "  display(js)\r\n",
        "  data = eval_js('takePhoto({})'.format(quality))\r\n",
        "  binary = b64decode(data.split(',')[1])\r\n",
        "  with open(filename, 'wb') as f:\r\n",
        "    f.write(binary)\r\n",
        "  return filename"
      ],
      "execution_count": 2,
      "outputs": []
    },
    {
      "cell_type": "code",
      "metadata": {
        "id": "Iy_-6jRs-3nn",
        "colab": {
          "base_uri": "https://localhost:8080/"
        },
        "outputId": "57383493-6c6b-424e-ab05-c64428a1911c"
      },
      "source": [
        "!pip install -Uqq fastai  # upgrade fastai on colab\r\n",
        "from fastai.vision.all import *\r\n",
        "from fastai.vision.widgets import *"
      ],
      "execution_count": 3,
      "outputs": [
        {
          "output_type": "stream",
          "text": [
            "\u001b[K     |████████████████████████████████| 194kB 8.7MB/s \n",
            "\u001b[K     |████████████████████████████████| 61kB 8.1MB/s \n",
            "\u001b[?25h"
          ],
          "name": "stdout"
        }
      ]
    },
    {
      "cell_type": "code",
      "metadata": {
        "colab": {
          "base_uri": "https://localhost:8080/",
          "height": 17
        },
        "id": "o7uOw7N2JJXO",
        "outputId": "3aa3767e-0bcf-4e96-d160-c736e7eed457"
      },
      "source": [
        "download_url('https://github.com/pds2021/a5-crown90/releases/download/v0.1/export.pkl', 'rock-paper-scissors-lizard-spock.pkl')\r\n",
        "learn_inf = load_learner('rock-paper-scissors-lizard-spock.pkl', cpu=True)"
      ],
      "execution_count": 4,
      "outputs": [
        {
          "output_type": "display_data",
          "data": {
            "text/html": [
              ""
            ],
            "text/plain": [
              "<IPython.core.display.HTML object>"
            ]
          },
          "metadata": {
            "tags": []
          }
        }
      ]
    },
    {
      "cell_type": "markdown",
      "metadata": {
        "id": "p6OSrtG4hF5X"
      },
      "source": [
        "### Game"
      ]
    },
    {
      "cell_type": "code",
      "metadata": {
        "id": "Tzi9iYQA-aaV",
        "colab": {
          "base_uri": "https://localhost:8080/",
          "height": 621
        },
        "outputId": "093244a9-e12f-4dc4-a276-7334f8db082c"
      },
      "source": [
        "from IPython.display import Image\r\n",
        "out_pl = widgets.Output()\r\n",
        "\r\n",
        "try:\r\n",
        "  filename = take_photo()\r\n",
        "  display(Image(filename))\r\n",
        "\r\n",
        "  img = PILImage.create(filename)\r\n",
        "  pred,pred_idx,probs = learn_inf.predict(img)\r\n",
        "  \r\n",
        "  print()\r\n",
        "  pred_result = f'Prediction: {pred}; Probability: {probs[pred_idx]:.04f}'\r\n",
        "  pred_result_all = f'Probabilities: {probs[0]:.04f} {probs[1]:.04f} {probs[2]:.04f} {probs[3]:.04f} {probs[4]:.04f}'\r\n",
        " \r\n",
        "  print(pred_result)\r\n",
        "  print(pred_result_all)\r\n",
        "  print()\r\n",
        "  play(pred)\r\n",
        "\r\n",
        "except Exception as err:\r\n",
        "  # Errors will be thrown if the user does not have a webcam or if they do not\r\n",
        "  # grant the page permission to access it.\r\n",
        "  print(str(err))"
      ],
      "execution_count": 43,
      "outputs": [
        {
          "output_type": "display_data",
          "data": {
            "application/javascript": [
              "\n",
              "    async function takePhoto(quality) {\n",
              "      const div = document.createElement('div');\n",
              "      const capture = document.createElement('button');\n",
              "      capture.textContent = 'Adjust your hand and click to CAPTURE';\n",
              "      div.appendChild(capture);\n",
              "\n",
              "      const video = document.createElement('video');\n",
              "      video.style.display = 'block';\n",
              "      const stream = await navigator.mediaDevices.getUserMedia({video: true});\n",
              "\n",
              "      document.body.appendChild(div);\n",
              "      div.appendChild(video);\n",
              "      video.srcObject = stream;\n",
              "      await video.play();\n",
              "\n",
              "      // Resize the output to fit the video element.\n",
              "      google.colab.output.setIframeHeight(document.documentElement.scrollHeight, true);\n",
              "\n",
              "      // Wait for Capture to be clicked.\n",
              "      await new Promise((resolve) => capture.onclick = resolve);\n",
              "\n",
              "      const canvas = document.createElement('canvas');\n",
              "      canvas.width = video.videoWidth;\n",
              "      canvas.height = video.videoHeight;\n",
              "      canvas.getContext('2d').drawImage(video, 0, 0);\n",
              "      stream.getVideoTracks()[0].stop();\n",
              "      div.remove();\n",
              "      return canvas.toDataURL('image/jpeg', quality);\n",
              "    }\n",
              "    "
            ],
            "text/plain": [
              "<IPython.core.display.Javascript object>"
            ]
          },
          "metadata": {
            "tags": []
          }
        },
        {
          "output_type": "display_data",
          "data": {
            "image/jpeg": "[encoded data removed]",
            "text/plain": [
              "<IPython.core.display.Image object>"
            ]
          },
          "metadata": {
            "tags": []
          }
        },
        {
          "output_type": "display_data",
          "data": {
            "text/html": [
              ""
            ],
            "text/plain": [
              "<IPython.core.display.HTML object>"
            ]
          },
          "metadata": {
            "tags": []
          }
        },
        {
          "output_type": "stream",
          "text": [
            "\n",
            "Prediction: rock; Probability: 0.9963\n",
            "Probability: 0.0005 0.0002 0.9963 0.0000 0.0031\n",
            "\n",
            "You choose ROCK\n",
            "Computer chooses SCISSORS\n",
            "YOU WIN!\n"
          ],
          "name": "stdout"
        }
      ]
    }
  ]
}