{
  "nbformat": 4,
  "nbformat_minor": 0,
  "metadata": {
    "colab": {
      "name": "Assignment_5_WebApp.ipynb",
      "provenance": [],
      "collapsed_sections": [
        "yH0atkWHmIMT",
        "h-v7at3gmTW-",
        "gMf2-lkFmfsb"
      ],
      "authorship_tag": "ABX9TyMbVZzuCgEIp5uhPi/hKGm6",
      "include_colab_link": true
    },
    "kernelspec": {
      "name": "python3",
      "display_name": "Python 3"
    },
    "widgets": {
      "application/vnd.jupyter.widget-state+json": {
        "69ff3a516d524fbeb29c74e4f669f0ae": {
          "model_module": "@jupyter-widgets/controls",
          "model_name": "VBoxModel",
          "state": {
            "_view_name": "VBoxView",
            "_dom_classes": [],
            "_model_name": "VBoxModel",
            "_view_module": "@jupyter-widgets/controls",
            "_model_module_version": "1.5.0",
            "_view_count": null,
            "_view_module_version": "1.5.0",
            "box_style": "",
            "layout": "IPY_MODEL_ba712e9a38c14b818bc13ded52c2e22f",
            "_model_module": "@jupyter-widgets/controls",
            "children": [
              "IPY_MODEL_0801f35fd2df4d218f1c6c9d7e538837",
              "IPY_MODEL_4a9c88d1d0594b308abeaa97e687a51b",
              "IPY_MODEL_ee95029650df499199ed0044514d152c",
              "IPY_MODEL_77e1fc559b8b43b7b4a1f548d358359e",
              "IPY_MODEL_aebbc2fbd4084d5791f5b6a6d4169bf6",
              "IPY_MODEL_8c7f0b4781b54a04a8ac8a8fe94cf025",
              "IPY_MODEL_c740a2696e984b8e83b21cefb73d5b73",
              "IPY_MODEL_e695fdc5830547c6a6a15e9c5401c420"
            ]
          }
        },
        "ba712e9a38c14b818bc13ded52c2e22f": {
          "model_module": "@jupyter-widgets/base",
          "model_name": "LayoutModel",
          "state": {
            "_view_name": "LayoutView",
            "grid_template_rows": null,
            "right": null,
            "justify_content": null,
            "_view_module": "@jupyter-widgets/base",
            "overflow": null,
            "_model_module_version": "1.2.0",
            "_view_count": null,
            "flex_flow": null,
            "width": null,
            "min_width": null,
            "border": null,
            "align_items": null,
            "bottom": null,
            "_model_module": "@jupyter-widgets/base",
            "top": null,
            "grid_column": null,
            "overflow_y": null,
            "overflow_x": null,
            "grid_auto_flow": null,
            "grid_area": null,
            "grid_template_columns": null,
            "flex": null,
            "_model_name": "LayoutModel",
            "justify_items": null,
            "grid_row": null,
            "max_height": null,
            "align_content": null,
            "visibility": null,
            "align_self": null,
            "height": null,
            "min_height": null,
            "padding": null,
            "grid_auto_rows": null,
            "grid_gap": null,
            "max_width": null,
            "order": null,
            "_view_module_version": "1.2.0",
            "grid_template_areas": null,
            "object_position": null,
            "object_fit": null,
            "grid_auto_columns": null,
            "margin": null,
            "display": null,
            "left": null
          }
        },
        "0801f35fd2df4d218f1c6c9d7e538837": {
          "model_module": "@jupyter-widgets/controls",
          "model_name": "HBoxModel",
          "state": {
            "_view_name": "HBoxView",
            "_dom_classes": [],
            "_model_name": "HBoxModel",
            "_view_module": "@jupyter-widgets/controls",
            "_model_module_version": "1.5.0",
            "_view_count": null,
            "_view_module_version": "1.5.0",
            "box_style": "",
            "layout": "IPY_MODEL_3a744d0f0ad54d1998048948f0906cef",
            "_model_module": "@jupyter-widgets/controls",
            "children": [
              "IPY_MODEL_ee95029650df499199ed0044514d152c",
              "IPY_MODEL_3aaf90ba5a5f44d68e38ed24cf07f60b",
              "IPY_MODEL_cc6218ede7124b4e9fe335c7c836bd70"
            ]
          }
        },
        "4a9c88d1d0594b308abeaa97e687a51b": {
          "model_module": "@jupyter-widgets/controls",
          "model_name": "LabelModel",
          "state": {
            "_view_name": "LabelView",
            "style": "IPY_MODEL_53f4c4ce1fc740649f0608af29d2be11",
            "_dom_classes": [],
            "description": "",
            "_model_name": "LabelModel",
            "placeholder": "​",
            "_view_module": "@jupyter-widgets/controls",
            "_model_module_version": "1.5.0",
            "value": "Scissors - Rock - Paper - Lizard - Spock GAME",
            "_view_count": null,
            "_view_module_version": "1.5.0",
            "description_tooltip": null,
            "_model_module": "@jupyter-widgets/controls",
            "layout": "IPY_MODEL_360d7381f8654b95bba7968cc3182ffa"
          }
        },
        "ee95029650df499199ed0044514d152c": {
          "model_module": "@jupyter-widgets/controls",
          "model_name": "ButtonModel",
          "state": {
            "_view_name": "ButtonView",
            "style": "IPY_MODEL_11eecdcbd9ca436082681553a0fba57d",
            "_dom_classes": [],
            "description": "1. START WEBCAM",
            "_model_name": "ButtonModel",
            "button_style": "",
            "_view_module": "@jupyter-widgets/controls",
            "_model_module_version": "1.5.0",
            "tooltip": "",
            "_view_count": null,
            "disabled": false,
            "_view_module_version": "1.5.0",
            "layout": "IPY_MODEL_e2832c1efb6e4e2ab3632cf7177338d4",
            "_model_module": "@jupyter-widgets/controls",
            "icon": ""
          }
        },
        "77e1fc559b8b43b7b4a1f548d358359e": {
          "model_module": "@jupyter-widgets/output",
          "model_name": "OutputModel",
          "state": {
            "_view_name": "OutputView",
            "msg_id": "",
            "_dom_classes": [],
            "_model_name": "OutputModel",
            "outputs": [
              {
                "output_type": "display_data",
                "metadata": {
                  "tags": []
                },
                "image/png": "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\n",
                "text/plain": "PILImage mode=RGB size=640x480"
              }
            ],
            "_view_module": "@jupyter-widgets/output",
            "_model_module_version": "1.0.0",
            "_view_count": null,
            "_view_module_version": "1.0.0",
            "layout": "IPY_MODEL_a72461e52008415fb914df7defe77492",
            "_model_module": "@jupyter-widgets/output"
          }
        },
        "aebbc2fbd4084d5791f5b6a6d4169bf6": {
          "model_module": "@jupyter-widgets/controls",
          "model_name": "LabelModel",
          "state": {
            "_view_name": "LabelView",
            "style": "IPY_MODEL_d82c5fa148674001928b9d5f69048936",
            "_dom_classes": [],
            "description": "",
            "_model_name": "LabelModel",
            "placeholder": "​",
            "_view_module": "@jupyter-widgets/controls",
            "_model_module_version": "1.5.0",
            "value": "Prediction: spock; Probability: 0.6859 (Probabilities: 0.0106 0.0161 0.2426 0.0448 0.6859)",
            "_view_count": null,
            "_view_module_version": "1.5.0",
            "description_tooltip": null,
            "_model_module": "@jupyter-widgets/controls",
            "layout": "IPY_MODEL_587eabdfe09c4251b4699156af375734"
          }
        },
        "8c7f0b4781b54a04a8ac8a8fe94cf025": {
          "model_module": "@jupyter-widgets/controls",
          "model_name": "LabelModel",
          "state": {
            "_view_name": "LabelView",
            "style": "IPY_MODEL_b39d5f78ad9b49ac917e543038ef4d05",
            "_dom_classes": [],
            "description": "",
            "_model_name": "LabelModel",
            "placeholder": "​",
            "_view_module": "@jupyter-widgets/controls",
            "_model_module_version": "1.5.0",
            "value": "You choose SPOCK",
            "_view_count": null,
            "_view_module_version": "1.5.0",
            "description_tooltip": null,
            "_model_module": "@jupyter-widgets/controls",
            "layout": "IPY_MODEL_fedb36fe17d74c49b62fbd29a5395fb9"
          }
        },
        "c740a2696e984b8e83b21cefb73d5b73": {
          "model_module": "@jupyter-widgets/controls",
          "model_name": "LabelModel",
          "state": {
            "_view_name": "LabelView",
            "style": "IPY_MODEL_a55b4f4e4f8f4699932758d8d2556c9d",
            "_dom_classes": [],
            "description": "",
            "_model_name": "LabelModel",
            "placeholder": "​",
            "_view_module": "@jupyter-widgets/controls",
            "_model_module_version": "1.5.0",
            "value": "Computer chooses SPOCK",
            "_view_count": null,
            "_view_module_version": "1.5.0",
            "description_tooltip": null,
            "_model_module": "@jupyter-widgets/controls",
            "layout": "IPY_MODEL_57270d44a472470f8003647464edbcef"
          }
        },
        "e695fdc5830547c6a6a15e9c5401c420": {
          "model_module": "@jupyter-widgets/controls",
          "model_name": "LabelModel",
          "state": {
            "_view_name": "LabelView",
            "style": "IPY_MODEL_004ef60ee84543769dcc71fc485573b3",
            "_dom_classes": [],
            "description": "",
            "_model_name": "LabelModel",
            "placeholder": "​",
            "_view_module": "@jupyter-widgets/controls",
            "_model_module_version": "1.5.0",
            "value": "TIE!",
            "_view_count": null,
            "_view_module_version": "1.5.0",
            "description_tooltip": null,
            "_model_module": "@jupyter-widgets/controls",
            "layout": "IPY_MODEL_64a741e5f3c843dbb932c935e64ff71d"
          }
        },
        "3a744d0f0ad54d1998048948f0906cef": {
          "model_module": "@jupyter-widgets/base",
          "model_name": "LayoutModel",
          "state": {
            "_view_name": "LayoutView",
            "grid_template_rows": null,
            "right": null,
            "justify_content": null,
            "_view_module": "@jupyter-widgets/base",
            "overflow": null,
            "_model_module_version": "1.2.0",
            "_view_count": null,
            "flex_flow": null,
            "width": null,
            "min_width": null,
            "border": null,
            "align_items": null,
            "bottom": null,
            "_model_module": "@jupyter-widgets/base",
            "top": null,
            "grid_column": null,
            "overflow_y": null,
            "overflow_x": null,
            "grid_auto_flow": null,
            "grid_area": null,
            "grid_template_columns": null,
            "flex": null,
            "_model_name": "LayoutModel",
            "justify_items": null,
            "grid_row": null,
            "max_height": null,
            "align_content": null,
            "visibility": null,
            "align_self": null,
            "height": null,
            "min_height": null,
            "padding": null,
            "grid_auto_rows": null,
            "grid_gap": null,
            "max_width": null,
            "order": null,
            "_view_module_version": "1.2.0",
            "grid_template_areas": null,
            "object_position": null,
            "object_fit": null,
            "grid_auto_columns": null,
            "margin": null,
            "display": null,
            "left": null
          }
        },
        "3aaf90ba5a5f44d68e38ed24cf07f60b": {
          "model_module": "@jupyter-widgets/controls",
          "model_name": "LabelModel",
          "state": {
            "_view_name": "LabelView",
            "style": "IPY_MODEL_b28b88927d5845e98b447f3c00ca9c00",
            "_dom_classes": [],
            "description": "",
            "_model_name": "LabelModel",
            "placeholder": "​",
            "_view_module": "@jupyter-widgets/controls",
            "_model_module_version": "1.5.0",
            "value": " or ",
            "_view_count": null,
            "_view_module_version": "1.5.0",
            "description_tooltip": null,
            "_model_module": "@jupyter-widgets/controls",
            "layout": "IPY_MODEL_7d8066f13b4f48c5872f79f1e2389168"
          }
        },
        "cc6218ede7124b4e9fe335c7c836bd70": {
          "model_module": "@jupyter-widgets/controls",
          "model_name": "FileUploadModel",
          "state": {
            "_view_name": "FileUploadView",
            "_counter": 0,
            "style": "IPY_MODEL_0c1d3d4244414521bb005259f00faac9",
            "_dom_classes": [],
            "description": "Upload",
            "multiple": false,
            "_model_name": "FileUploadModel",
            "data": [],
            "button_style": "",
            "_view_module": "@jupyter-widgets/controls",
            "_model_module_version": "1.5.0",
            "accept": "",
            "_view_count": null,
            "disabled": false,
            "_view_module_version": "1.5.0",
            "error": "",
            "description_tooltip": null,
            "metadata": [],
            "_model_module": "@jupyter-widgets/controls",
            "layout": "IPY_MODEL_2e7f4ad0321247ec972195bac4c12f4b",
            "icon": "upload"
          }
        },
        "53f4c4ce1fc740649f0608af29d2be11": {
          "model_module": "@jupyter-widgets/controls",
          "model_name": "DescriptionStyleModel",
          "state": {
            "_view_name": "StyleView",
            "_model_name": "DescriptionStyleModel",
            "description_width": "",
            "_view_module": "@jupyter-widgets/base",
            "_model_module_version": "1.5.0",
            "_view_count": null,
            "_view_module_version": "1.2.0",
            "_model_module": "@jupyter-widgets/controls"
          }
        },
        "360d7381f8654b95bba7968cc3182ffa": {
          "model_module": "@jupyter-widgets/base",
          "model_name": "LayoutModel",
          "state": {
            "_view_name": "LayoutView",
            "grid_template_rows": null,
            "right": null,
            "justify_content": null,
            "_view_module": "@jupyter-widgets/base",
            "overflow": null,
            "_model_module_version": "1.2.0",
            "_view_count": null,
            "flex_flow": null,
            "width": null,
            "min_width": null,
            "border": null,
            "align_items": null,
            "bottom": null,
            "_model_module": "@jupyter-widgets/base",
            "top": null,
            "grid_column": null,
            "overflow_y": null,
            "overflow_x": null,
            "grid_auto_flow": null,
            "grid_area": null,
            "grid_template_columns": null,
            "flex": null,
            "_model_name": "LayoutModel",
            "justify_items": null,
            "grid_row": null,
            "max_height": null,
            "align_content": null,
            "visibility": null,
            "align_self": null,
            "height": null,
            "min_height": null,
            "padding": null,
            "grid_auto_rows": null,
            "grid_gap": null,
            "max_width": null,
            "order": null,
            "_view_module_version": "1.2.0",
            "grid_template_areas": null,
            "object_position": null,
            "object_fit": null,
            "grid_auto_columns": null,
            "margin": null,
            "display": null,
            "left": null
          }
        },
        "11eecdcbd9ca436082681553a0fba57d": {
          "model_module": "@jupyter-widgets/controls",
          "model_name": "ButtonStyleModel",
          "state": {
            "_view_name": "StyleView",
            "_model_name": "ButtonStyleModel",
            "_view_module": "@jupyter-widgets/base",
            "_model_module_version": "1.5.0",
            "_view_count": null,
            "button_color": null,
            "font_weight": "",
            "_view_module_version": "1.2.0",
            "_model_module": "@jupyter-widgets/controls"
          }
        },
        "e2832c1efb6e4e2ab3632cf7177338d4": {
          "model_module": "@jupyter-widgets/base",
          "model_name": "LayoutModel",
          "state": {
            "_view_name": "LayoutView",
            "grid_template_rows": null,
            "right": null,
            "justify_content": null,
            "_view_module": "@jupyter-widgets/base",
            "overflow": null,
            "_model_module_version": "1.2.0",
            "_view_count": null,
            "flex_flow": null,
            "width": null,
            "min_width": null,
            "border": null,
            "align_items": null,
            "bottom": null,
            "_model_module": "@jupyter-widgets/base",
            "top": null,
            "grid_column": null,
            "overflow_y": null,
            "overflow_x": null,
            "grid_auto_flow": null,
            "grid_area": null,
            "grid_template_columns": null,
            "flex": null,
            "_model_name": "LayoutModel",
            "justify_items": null,
            "grid_row": null,
            "max_height": null,
            "align_content": null,
            "visibility": null,
            "align_self": null,
            "height": null,
            "min_height": null,
            "padding": null,
            "grid_auto_rows": null,
            "grid_gap": null,
            "max_width": null,
            "order": null,
            "_view_module_version": "1.2.0",
            "grid_template_areas": null,
            "object_position": null,
            "object_fit": null,
            "grid_auto_columns": null,
            "margin": null,
            "display": null,
            "left": null
          }
        },
        "d82c5fa148674001928b9d5f69048936": {
          "model_module": "@jupyter-widgets/controls",
          "model_name": "DescriptionStyleModel",
          "state": {
            "_view_name": "StyleView",
            "_model_name": "DescriptionStyleModel",
            "description_width": "",
            "_view_module": "@jupyter-widgets/base",
            "_model_module_version": "1.5.0",
            "_view_count": null,
            "_view_module_version": "1.2.0",
            "_model_module": "@jupyter-widgets/controls"
          }
        },
        "587eabdfe09c4251b4699156af375734": {
          "model_module": "@jupyter-widgets/base",
          "model_name": "LayoutModel",
          "state": {
            "_view_name": "LayoutView",
            "grid_template_rows": null,
            "right": null,
            "justify_content": null,
            "_view_module": "@jupyter-widgets/base",
            "overflow": null,
            "_model_module_version": "1.2.0",
            "_view_count": null,
            "flex_flow": null,
            "width": null,
            "min_width": null,
            "border": null,
            "align_items": null,
            "bottom": null,
            "_model_module": "@jupyter-widgets/base",
            "top": null,
            "grid_column": null,
            "overflow_y": null,
            "overflow_x": null,
            "grid_auto_flow": null,
            "grid_area": null,
            "grid_template_columns": null,
            "flex": null,
            "_model_name": "LayoutModel",
            "justify_items": null,
            "grid_row": null,
            "max_height": null,
            "align_content": null,
            "visibility": null,
            "align_self": null,
            "height": null,
            "min_height": null,
            "padding": null,
            "grid_auto_rows": null,
            "grid_gap": null,
            "max_width": null,
            "order": null,
            "_view_module_version": "1.2.0",
            "grid_template_areas": null,
            "object_position": null,
            "object_fit": null,
            "grid_auto_columns": null,
            "margin": null,
            "display": null,
            "left": null
          }
        },
        "b39d5f78ad9b49ac917e543038ef4d05": {
          "model_module": "@jupyter-widgets/controls",
          "model_name": "DescriptionStyleModel",
          "state": {
            "_view_name": "StyleView",
            "_model_name": "DescriptionStyleModel",
            "description_width": "",
            "_view_module": "@jupyter-widgets/base",
            "_model_module_version": "1.5.0",
            "_view_count": null,
            "_view_module_version": "1.2.0",
            "_model_module": "@jupyter-widgets/controls"
          }
        },
        "fedb36fe17d74c49b62fbd29a5395fb9": {
          "model_module": "@jupyter-widgets/base",
          "model_name": "LayoutModel",
          "state": {
            "_view_name": "LayoutView",
            "grid_template_rows": null,
            "right": null,
            "justify_content": null,
            "_view_module": "@jupyter-widgets/base",
            "overflow": null,
            "_model_module_version": "1.2.0",
            "_view_count": null,
            "flex_flow": null,
            "width": null,
            "min_width": null,
            "border": null,
            "align_items": null,
            "bottom": null,
            "_model_module": "@jupyter-widgets/base",
            "top": null,
            "grid_column": null,
            "overflow_y": null,
            "overflow_x": null,
            "grid_auto_flow": null,
            "grid_area": null,
            "grid_template_columns": null,
            "flex": null,
            "_model_name": "LayoutModel",
            "justify_items": null,
            "grid_row": null,
            "max_height": null,
            "align_content": null,
            "visibility": null,
            "align_self": null,
            "height": null,
            "min_height": null,
            "padding": null,
            "grid_auto_rows": null,
            "grid_gap": null,
            "max_width": null,
            "order": null,
            "_view_module_version": "1.2.0",
            "grid_template_areas": null,
            "object_position": null,
            "object_fit": null,
            "grid_auto_columns": null,
            "margin": null,
            "display": null,
            "left": null
          }
        },
        "a55b4f4e4f8f4699932758d8d2556c9d": {
          "model_module": "@jupyter-widgets/controls",
          "model_name": "DescriptionStyleModel",
          "state": {
            "_view_name": "StyleView",
            "_model_name": "DescriptionStyleModel",
            "description_width": "",
            "_view_module": "@jupyter-widgets/base",
            "_model_module_version": "1.5.0",
            "_view_count": null,
            "_view_module_version": "1.2.0",
            "_model_module": "@jupyter-widgets/controls"
          }
        },
        "57270d44a472470f8003647464edbcef": {
          "model_module": "@jupyter-widgets/base",
          "model_name": "LayoutModel",
          "state": {
            "_view_name": "LayoutView",
            "grid_template_rows": null,
            "right": null,
            "justify_content": null,
            "_view_module": "@jupyter-widgets/base",
            "overflow": null,
            "_model_module_version": "1.2.0",
            "_view_count": null,
            "flex_flow": null,
            "width": null,
            "min_width": null,
            "border": null,
            "align_items": null,
            "bottom": null,
            "_model_module": "@jupyter-widgets/base",
            "top": null,
            "grid_column": null,
            "overflow_y": null,
            "overflow_x": null,
            "grid_auto_flow": null,
            "grid_area": null,
            "grid_template_columns": null,
            "flex": null,
            "_model_name": "LayoutModel",
            "justify_items": null,
            "grid_row": null,
            "max_height": null,
            "align_content": null,
            "visibility": null,
            "align_self": null,
            "height": null,
            "min_height": null,
            "padding": null,
            "grid_auto_rows": null,
            "grid_gap": null,
            "max_width": null,
            "order": null,
            "_view_module_version": "1.2.0",
            "grid_template_areas": null,
            "object_position": null,
            "object_fit": null,
            "grid_auto_columns": null,
            "margin": null,
            "display": null,
            "left": null
          }
        },
        "004ef60ee84543769dcc71fc485573b3": {
          "model_module": "@jupyter-widgets/controls",
          "model_name": "DescriptionStyleModel",
          "state": {
            "_view_name": "StyleView",
            "_model_name": "DescriptionStyleModel",
            "description_width": "",
            "_view_module": "@jupyter-widgets/base",
            "_model_module_version": "1.5.0",
            "_view_count": null,
            "_view_module_version": "1.2.0",
            "_model_module": "@jupyter-widgets/controls"
          }
        },
        "64a741e5f3c843dbb932c935e64ff71d": {
          "model_module": "@jupyter-widgets/base",
          "model_name": "LayoutModel",
          "state": {
            "_view_name": "LayoutView",
            "grid_template_rows": null,
            "right": null,
            "justify_content": null,
            "_view_module": "@jupyter-widgets/base",
            "overflow": null,
            "_model_module_version": "1.2.0",
            "_view_count": null,
            "flex_flow": null,
            "width": null,
            "min_width": null,
            "border": null,
            "align_items": null,
            "bottom": null,
            "_model_module": "@jupyter-widgets/base",
            "top": null,
            "grid_column": null,
            "overflow_y": null,
            "overflow_x": null,
            "grid_auto_flow": null,
            "grid_area": null,
            "grid_template_columns": null,
            "flex": null,
            "_model_name": "LayoutModel",
            "justify_items": null,
            "grid_row": null,
            "max_height": null,
            "align_content": null,
            "visibility": null,
            "align_self": null,
            "height": null,
            "min_height": null,
            "padding": null,
            "grid_auto_rows": null,
            "grid_gap": null,
            "max_width": null,
            "order": null,
            "_view_module_version": "1.2.0",
            "grid_template_areas": null,
            "object_position": null,
            "object_fit": null,
            "grid_auto_columns": null,
            "margin": null,
            "display": null,
            "left": null
          }
        },
        "b28b88927d5845e98b447f3c00ca9c00": {
          "model_module": "@jupyter-widgets/controls",
          "model_name": "DescriptionStyleModel",
          "state": {
            "_view_name": "StyleView",
            "_model_name": "DescriptionStyleModel",
            "description_width": "",
            "_view_module": "@jupyter-widgets/base",
            "_model_module_version": "1.5.0",
            "_view_count": null,
            "_view_module_version": "1.2.0",
            "_model_module": "@jupyter-widgets/controls"
          }
        },
        "7d8066f13b4f48c5872f79f1e2389168": {
          "model_module": "@jupyter-widgets/base",
          "model_name": "LayoutModel",
          "state": {
            "_view_name": "LayoutView",
            "grid_template_rows": null,
            "right": null,
            "justify_content": null,
            "_view_module": "@jupyter-widgets/base",
            "overflow": null,
            "_model_module_version": "1.2.0",
            "_view_count": null,
            "flex_flow": null,
            "width": null,
            "min_width": null,
            "border": null,
            "align_items": null,
            "bottom": null,
            "_model_module": "@jupyter-widgets/base",
            "top": null,
            "grid_column": null,
            "overflow_y": null,
            "overflow_x": null,
            "grid_auto_flow": null,
            "grid_area": null,
            "grid_template_columns": null,
            "flex": null,
            "_model_name": "LayoutModel",
            "justify_items": null,
            "grid_row": null,
            "max_height": null,
            "align_content": null,
            "visibility": null,
            "align_self": null,
            "height": null,
            "min_height": null,
            "padding": null,
            "grid_auto_rows": null,
            "grid_gap": null,
            "max_width": null,
            "order": null,
            "_view_module_version": "1.2.0",
            "grid_template_areas": null,
            "object_position": null,
            "object_fit": null,
            "grid_auto_columns": null,
            "margin": null,
            "display": null,
            "left": null
          }
        },
        "0c1d3d4244414521bb005259f00faac9": {
          "model_module": "@jupyter-widgets/controls",
          "model_name": "ButtonStyleModel",
          "state": {
            "_view_name": "StyleView",
            "_model_name": "ButtonStyleModel",
            "_view_module": "@jupyter-widgets/base",
            "_model_module_version": "1.5.0",
            "_view_count": null,
            "button_color": null,
            "font_weight": "",
            "_view_module_version": "1.2.0",
            "_model_module": "@jupyter-widgets/controls"
          }
        },
        "2e7f4ad0321247ec972195bac4c12f4b": {
          "model_module": "@jupyter-widgets/base",
          "model_name": "LayoutModel",
          "state": {
            "_view_name": "LayoutView",
            "grid_template_rows": null,
            "right": null,
            "justify_content": null,
            "_view_module": "@jupyter-widgets/base",
            "overflow": null,
            "_model_module_version": "1.2.0",
            "_view_count": null,
            "flex_flow": null,
            "width": null,
            "min_width": null,
            "border": null,
            "align_items": null,
            "bottom": null,
            "_model_module": "@jupyter-widgets/base",
            "top": null,
            "grid_column": null,
            "overflow_y": null,
            "overflow_x": null,
            "grid_auto_flow": null,
            "grid_area": null,
            "grid_template_columns": null,
            "flex": null,
            "_model_name": "LayoutModel",
            "justify_items": null,
            "grid_row": null,
            "max_height": null,
            "align_content": null,
            "visibility": null,
            "align_self": null,
            "height": null,
            "min_height": null,
            "padding": null,
            "grid_auto_rows": null,
            "grid_gap": null,
            "max_width": null,
            "order": null,
            "_view_module_version": "1.2.0",
            "grid_template_areas": null,
            "object_position": null,
            "object_fit": null,
            "grid_auto_columns": null,
            "margin": null,
            "display": null,
            "left": null
          }
        },
        "a72461e52008415fb914df7defe77492": {
          "model_module": "@jupyter-widgets/base",
          "model_name": "LayoutModel",
          "state": {
            "_view_name": "LayoutView",
            "grid_template_rows": null,
            "right": null,
            "justify_content": null,
            "_view_module": "@jupyter-widgets/base",
            "overflow": null,
            "_model_module_version": "1.2.0",
            "_view_count": null,
            "flex_flow": null,
            "width": null,
            "min_width": null,
            "border": null,
            "align_items": null,
            "bottom": null,
            "_model_module": "@jupyter-widgets/base",
            "top": null,
            "grid_column": null,
            "overflow_y": null,
            "overflow_x": null,
            "grid_auto_flow": null,
            "grid_area": null,
            "grid_template_columns": null,
            "flex": null,
            "_model_name": "LayoutModel",
            "justify_items": null,
            "grid_row": null,
            "max_height": null,
            "align_content": null,
            "visibility": null,
            "align_self": null,
            "height": null,
            "min_height": null,
            "padding": null,
            "grid_auto_rows": null,
            "grid_gap": null,
            "max_width": null,
            "order": null,
            "_view_module_version": "1.2.0",
            "grid_template_areas": null,
            "object_position": null,
            "object_fit": null,
            "grid_auto_columns": null,
            "margin": null,
            "display": null,
            "left": null
          }
        }
      }
    }
  },
  "cells": [
    {
      "cell_type": "markdown",
      "metadata": {
        "id": "view-in-github",
        "colab_type": "text"
      },
      "source": [
        "<a href=\"https://colab.research.google.com/github/pds2021/a5-crown90/blob/assignment_5/Assignment_5_WebApp.ipynb\" target=\"_parent\"><img src=\"https://colab.research.google.com/assets/colab-badge.svg\" alt=\"Open In Colab\"/></a>"
      ]
    },
    {
      "cell_type": "markdown",
      "metadata": {
        "id": "tj8p0N8Wl72i"
      },
      "source": [
        "# Rock Paper Scissors Lizard Spock "
      ]
    },
    {
      "cell_type": "markdown",
      "metadata": {
        "id": "yH0atkWHmIMT"
      },
      "source": [
        "### Gameplan"
      ]
    },
    {
      "cell_type": "markdown",
      "metadata": {
        "id": "po5t2ETnmMqE"
      },
      "source": [
        "1. The player has to start/allow the webcam\r\n",
        "2. The player adjusts an [ROCK/ PAPER/ SCISSORS/ LIZARD/ SPOCK] by hand\r\n",
        "3. The player has to push the [CAPTURE] button\r\n",
        "4. The AI player chooses one too and presents its choice to the player\r\n",
        "5. The winner will be promoted\r\n",
        "6. End of game "
      ]
    },
    {
      "cell_type": "markdown",
      "metadata": {
        "id": "h-v7at3gmTW-"
      },
      "source": [
        "### Game Rules"
      ]
    },
    {
      "cell_type": "markdown",
      "metadata": {
        "id": "gcAwmRASAzIs"
      },
      "source": [
        "1. scissors cuts paper\r\n",
        "2. paper covers rock\r\n",
        "3. rock crushes lizard\r\n",
        "4. lizard poisons spock\r\n",
        "5. spock smashes scissors\r\n",
        "6. scissors decapitates lizard\r\n",
        "7. lizard eats paper\r\n",
        "8. paper disproves spock\r\n",
        "9. spock vaporizes rock\r\n",
        "10. rock crushes scissors"
      ]
    },
    {
      "cell_type": "markdown",
      "metadata": {
        "id": "gMf2-lkFmfsb"
      },
      "source": [
        "### Hands"
      ]
    },
    {
      "cell_type": "markdown",
      "metadata": {
        "id": "NCrbJFDdmems"
      },
      "source": [
        "* SCISSORS: \r\n",
        "> index finger + middle finger\r\n",
        "* ROCK: \r\n",
        "> fist\r\n",
        "* PAPER:\r\n",
        "> flat hand\r\n",
        "* LIZARD: \r\n",
        "> index finger up, middle fingers down, pinky up, thumb in: </br> the standard rock 'n' roll salute\r\n",
        "* SPOCK: \r\n",
        "> vulcan salute"
      ]
    },
    {
      "cell_type": "markdown",
      "metadata": {
        "id": "kmoRrcueg89k"
      },
      "source": [
        "### Game code"
      ]
    },
    {
      "cell_type": "code",
      "metadata": {
        "id": "Iy_-6jRs-3nn"
      },
      "source": [
        "# Install and import packages\r\n",
        "!pip install -Uqq fastai  # upgrade fastai on colab\r\n",
        "from fastai.vision.all import *\r\n",
        "from fastai.vision.widgets import *\r\n",
        "from IPython.display import Image\r\n",
        "from IPython.display import display\r\n",
        "from IPython.display import Javascript\r\n",
        "from base64 import b64decode\r\n",
        "import random"
      ],
      "execution_count": 13,
      "outputs": []
    },
    {
      "cell_type": "code",
      "metadata": {
        "id": "h1enhOrGsHtv"
      },
      "source": [
        "class Picture:\r\n",
        "  def __init__(self, filename='player_choice.jpg'):\r\n",
        "    self.filename = filename\r\n",
        "\r\n",
        "  def get_picture(self, filename='player_choice.jpg'):\r\n",
        "    print(self.filename)"
      ],
      "execution_count": 25,
      "outputs": []
    },
    {
      "cell_type": "code",
      "metadata": {
        "id": "gUaf77dgqQT2"
      },
      "source": [
        "# This class contains methods for picture upload handling\r\n",
        "class Picture_Upload(Picture):\r\n",
        "  def get_picture(self, filename='player_choice.jpg'):\r\n",
        "   \r\n",
        "    img = PILImage.create(btn_upload.data[-1])\r\n",
        "    img.to_thumb(256,256)\r\n",
        "\r\n",
        "    out_pl = widgets.Output()\r\n",
        "    out_pl.clear_output()\r\n",
        "    with out_pl: display(img.to_thumb(512,512))\r\n",
        "    out_pl"
      ],
      "execution_count": null,
      "outputs": []
    },
    {
      "cell_type": "code",
      "metadata": {
        "id": "26k4vxfAlIBq"
      },
      "source": [
        "from google.colab.output import eval_js\r\n",
        "\r\n",
        "# This class contains methods for webcam handling\r\n",
        "class Webcam_(object):\r\n",
        "  \r\n",
        "   def get_picture(self, filename='player_choice.jpg', quality=0.8):\r\n",
        "    js = Javascript('''\r\n",
        "    async function takePhoto(quality) {\r\n",
        "      const div = document.createElement('div');\r\n",
        "  \r\n",
        "      const video = document.createElement('video');\r\n",
        "      video.style.display = 'block';\r\n",
        "      const stream = await navigator.mediaDevices.getUserMedia({video: true});\r\n",
        "\r\n",
        "      const capture = document.createElement('button');\r\n",
        "      capture.textContent = '2. CAPTURE HAND';\r\n",
        "      div.appendChild(capture);\r\n",
        "\r\n",
        "      document.body.appendChild(div);\r\n",
        "      div.appendChild(video);\r\n",
        "      video.srcObject = stream;\r\n",
        "      await video.play();\r\n",
        "\r\n",
        "      // Resize the output to fit the video element.\r\n",
        "      google.colab.output.setIframeHeight(document.documentElement.scrollHeight, true);\r\n",
        "\r\n",
        "      // Wait for Capture to be clicked.\r\n",
        "      await new Promise((resolve) => capture.onclick = resolve);\r\n",
        "\r\n",
        "      const canvas = document.createElement('canvas');\r\n",
        "      canvas.width = video.videoWidth;\r\n",
        "      canvas.height = video.videoHeight;\r\n",
        "      canvas.getContext('2d').drawImage(video, 0, 0);\r\n",
        "      stream.getVideoTracks()[0].stop();\r\n",
        "      div.remove();\r\n",
        "      return canvas.toDataURL('image/jpeg', quality);\r\n",
        "    }\r\n",
        "    ''')\r\n",
        "    display(js)\r\n",
        "    data = eval_js('takePhoto({})'.format(quality))\r\n",
        "    binary = b64decode(data.split(',')[1])\r\n",
        "    with open(filename, 'wb') as f:\r\n",
        "      f.write(binary)\r\n",
        "    return filename"
      ],
      "execution_count": null,
      "outputs": []
    },
    {
      "cell_type": "code",
      "metadata": {
        "id": "xrRIP-BsvpIi"
      },
      "source": [
        "# This class contains quick and dirty methods to manage the \r\n",
        "# Rock-Paper-Scissors-Lizard-Spock game\r\n",
        "class Simple_RPSLS_Game(object):\r\n",
        "  # Mapping of number to hand and its inverse\r\n",
        "  Mapping_number_hand = {0:\"rock\", 1:\"paper\", 2:\"scissors\", 3:\"lizard\", 4:\"spock\"}\r\n",
        "  Mapping_hand_number = {v: k for k, v in Mapping_number_hand.items()}\r\n",
        " \r\n",
        "  # Matrix which describes the win-lose-combinations (with 0:rock, 1:paper, 2:scissors, 3:lizard, 4:spock, -1 tie)\r\n",
        "  Matrix_win_lose = [[-1, 1, 0, 0, 4],[1, -1, 2, 3, 1], [0, 2, -1, 2, 4], [0, 3, 2, -1, 3], [4, 1, 4, 3, -1]]\r\n",
        "\r\n",
        "  # Constructor\r\n",
        "  def __init__(self, model_link='https://github.com/pds2021/a5-crown90/releases/download/v0.2/export.pkl'):\r\n",
        "    download_url(model_link, 'rock-paper-scissors-lizard-spock.pkl')\r\n",
        "    self.learn_inf = load_learner('rock-paper-scissors-lizard-spock.pkl', cpu=True)\r\n",
        "\r\n",
        "  # Method to upload a picture\r\n",
        "  def player_upload_picture(self, filename='player_choice.jpg'):\r\n",
        "    return \r\n",
        "\r\n",
        "  # Method to take a webcam picture\r\n",
        "  def player_take_picture(self, filename='player_choice.jpg', quality=0.8):\r\n",
        "    \r\n",
        "    return filename\r\n",
        " \r\n",
        "  # This method takes an image filename and predicts the hand\r\n",
        "  # The return-values contains the predicted hand as string, \r\n",
        "  # probability from the prediction and other probabilities as string \r\n",
        "  def detect_hand(self, filename='player_choice.jpg'):\r\n",
        "     img = PILImage.create(filename)\r\n",
        "     pred,pred_idx,probs = self.learn_inf.predict(img)\r\n",
        "     pred_result = f'Prediction: {pred}; Probability: {probs[pred_idx]:.04f}'\r\n",
        "     pred_result_all = f'Probabilities: {probs[0]:.04f} {probs[1]:.04f} {probs[2]:.04f} {probs[3]:.04f} {probs[4]:.04f}'\r\n",
        "     return (pred, pred_result, pred_result_all)\r\n",
        "\r\n",
        "  # This method plays a hand and decides who wins\r\n",
        "  # The return-values contains a string with your hand,\r\n",
        "  # a string with the computers hand and a string with the outcome\r\n",
        "  def play_hand(self, player_hand_str):\r\n",
        "    # Translate player hand into the mapped integer\r\n",
        "    player_hand_int = self.Mapping_hand_number[player_hand_str] \r\n",
        "    # Get the computer move randomly\r\n",
        "    computer_hand_int = random.randint(0, 4) \r\n",
        "\r\n",
        "    # Find the winner of the match\r\n",
        "    winner = self.Matrix_win_lose[player_hand_int][computer_hand_int]\r\n",
        "    message_you = \"You choose \" + self.Mapping_number_hand[player_hand_int].upper()\r\n",
        "    message_com = \"Computer chooses \" + self.Mapping_number_hand[computer_hand_int].upper()\r\n",
        "\r\n",
        "    if winner == player_hand_int:\r\n",
        "      message_outcome = \"YOU WIN!\"\r\n",
        "    elif winner == computer_hand_int:\r\n",
        "      message_outcome = \"YOU LOSE! COMPUTER WINS!\"\r\n",
        "    else:\r\n",
        "      message_outcome = \"TIE!\" \r\n",
        "    \r\n",
        "    return (message_you, message_com, message_outcome)"
      ],
      "execution_count": 14,
      "outputs": []
    },
    {
      "cell_type": "markdown",
      "metadata": {
        "id": "p6OSrtG4hF5X"
      },
      "source": [
        "### Game"
      ]
    },
    {
      "cell_type": "code",
      "metadata": {
        "id": "BxYaBQMGQwUr",
        "colab": {
          "base_uri": "https://localhost:8080/",
          "height": 17
        },
        "outputId": "46bb736d-311e-4a15-e797-5d9c265f0160"
      },
      "source": [
        "# Instanciate game object\r\n",
        "game = Simple_RPSLS_Game()"
      ],
      "execution_count": 15,
      "outputs": [
        {
          "output_type": "display_data",
          "data": {
            "text/html": [
              ""
            ],
            "text/plain": [
              "<IPython.core.display.HTML object>"
            ]
          },
          "metadata": {
            "tags": []
          }
        }
      ]
    },
    {
      "cell_type": "code",
      "metadata": {
        "id": "O0ehu5MoaqzO"
      },
      "source": [
        "# Define output widget for image\r\n",
        "out_pl = widgets.Output()\r\n",
        "\r\n",
        "# Define label widgets\r\n",
        "lbl_stats = widgets.Label()\r\n",
        "lbl_you = widgets.Label()\r\n",
        "lbl_computer = widgets.Label()\r\n",
        "lbl_outcome = widgets.Label()"
      ],
      "execution_count": 16,
      "outputs": []
    },
    {
      "cell_type": "code",
      "metadata": {
        "id": "ugWBvfD5acr1"
      },
      "source": [
        "# Add functionality for 'webcam'-button\r\n",
        "# which will be invoked by on-click event\r\n",
        "def on_click_webcam(change):\r\n",
        "    filename = game.player_take_picture()\r\n",
        "    img = PILImage.create(filename)\r\n",
        "\r\n",
        "    out_pl.clear_output()\r\n",
        "    with out_pl: display(img)\r\n",
        "    \r\n",
        "    pred, pred_result, pred_result_all = game.detect_hand()\r\n",
        "    message_you, message_com, message_outcome = game.play_hand(pred)\r\n",
        "    \r\n",
        "    lbl_you.value = message_you\r\n",
        "    lbl_computer.value = message_com\r\n",
        "    lbl_outcome.value = message_outcome\r\n",
        "    lbl_stats.value = f\"{pred_result} ({pred_result_all})\"\r\n",
        "\r\n",
        "# Define button\r\n",
        "btn_webcam = widgets.Button(description='1. START WEBCAM')\r\n",
        "btn_webcam.on_click(on_click_webcam)\r\n",
        "\r\n",
        "btn_upload = widgets.FileUpload()\r\n"
      ],
      "execution_count": 21,
      "outputs": []
    },
    {
      "cell_type": "code",
      "metadata": {
        "colab": {
          "base_uri": "https://localhost:8080/",
          "height": 721,
          "referenced_widgets": [
            "69ff3a516d524fbeb29c74e4f669f0ae",
            "ba712e9a38c14b818bc13ded52c2e22f",
            "0801f35fd2df4d218f1c6c9d7e538837",
            "4a9c88d1d0594b308abeaa97e687a51b",
            "ee95029650df499199ed0044514d152c",
            "77e1fc559b8b43b7b4a1f548d358359e",
            "aebbc2fbd4084d5791f5b6a6d4169bf6",
            "8c7f0b4781b54a04a8ac8a8fe94cf025",
            "c740a2696e984b8e83b21cefb73d5b73",
            "e695fdc5830547c6a6a15e9c5401c420",
            "3a744d0f0ad54d1998048948f0906cef",
            "3aaf90ba5a5f44d68e38ed24cf07f60b",
            "cc6218ede7124b4e9fe335c7c836bd70",
            "53f4c4ce1fc740649f0608af29d2be11",
            "360d7381f8654b95bba7968cc3182ffa",
            "11eecdcbd9ca436082681553a0fba57d",
            "e2832c1efb6e4e2ab3632cf7177338d4",
            "d82c5fa148674001928b9d5f69048936",
            "587eabdfe09c4251b4699156af375734",
            "b39d5f78ad9b49ac917e543038ef4d05",
            "fedb36fe17d74c49b62fbd29a5395fb9",
            "a55b4f4e4f8f4699932758d8d2556c9d",
            "57270d44a472470f8003647464edbcef",
            "004ef60ee84543769dcc71fc485573b3",
            "64a741e5f3c843dbb932c935e64ff71d",
            "b28b88927d5845e98b447f3c00ca9c00",
            "7d8066f13b4f48c5872f79f1e2389168",
            "0c1d3d4244414521bb005259f00faac9",
            "2e7f4ad0321247ec972195bac4c12f4b",
            "a72461e52008415fb914df7defe77492"
          ]
        },
        "id": "ThNhleEMkK6P",
        "outputId": "49f699b9-1de2-43f0-d4db-e4e347930fa3"
      },
      "source": [
        "horizontal_box = HBox([btn_webcam, widgets.Label(\" or \"), btn_upload])\r\n",
        "\r\n",
        "VBox([horizontal_box, widgets.Label(\"Scissors - Rock - Paper - Lizard - Spock GAME\"),\r\n",
        "      btn_webcam, out_pl, lbl_stats, lbl_you, lbl_computer, lbl_outcome])"
      ],
      "execution_count": 23,
      "outputs": [
        {
          "output_type": "display_data",
          "data": {
            "application/vnd.jupyter.widget-view+json": {
              "model_id": "69ff3a516d524fbeb29c74e4f669f0ae",
              "version_minor": 0,
              "version_major": 2
            },
            "text/plain": [
              "VBox(children=(HBox(children=(Button(description='1. START WEBCAM', style=ButtonStyle()), Label(value=' or '),…"
            ]
          },
          "metadata": {
            "tags": []
          }
        }
      ]
    }
  ]
}