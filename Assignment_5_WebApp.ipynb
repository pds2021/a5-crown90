{
  "nbformat": 4,
  "nbformat_minor": 0,
  "metadata": {
    "colab": {
      "name": "Assignment_5_WebApp.ipynb",
      "provenance": [],
      "authorship_tag": "ABX9TyOr/eTdqWY9i9GZ2nK9rzll",
      "include_colab_link": true
    },
    "kernelspec": {
      "name": "python3",
      "display_name": "Python 3"
    },
    "accelerator": "GPU"
  },
  "cells": [
    {
      "cell_type": "markdown",
      "metadata": {
        "id": "view-in-github",
        "colab_type": "text"
      },
      "source": [
        "<a href=\"https://colab.research.google.com/github/pds2021/a5-crown90/blob/assignment_5/Assignment_5_WebApp.ipynb\" target=\"_parent\"><img src=\"https://colab.research.google.com/assets/colab-badge.svg\" alt=\"Open In Colab\"/></a>"
      ]
    },
    {
      "cell_type": "code",
      "metadata": {
        "id": "zHSvyt5V-Jaw"
      },
      "source": [
        "from IPython.display import display, Javascript\r\n",
        "from google.colab.output import eval_js\r\n",
        "from base64 import b64decode\r\n",
        "\r\n",
        "def take_photo(filename='photo.jpg', quality=0.8):\r\n",
        "  js = Javascript('''\r\n",
        "    async function takePhoto(quality) {\r\n",
        "      const div = document.createElement('div');\r\n",
        "      const capture = document.createElement('button');\r\n",
        "      capture.textContent = 'Capture';\r\n",
        "      div.appendChild(capture);\r\n",
        "\r\n",
        "      const video = document.createElement('video');\r\n",
        "      video.style.display = 'block';\r\n",
        "      const stream = await navigator.mediaDevices.getUserMedia({video: true});\r\n",
        "\r\n",
        "      document.body.appendChild(div);\r\n",
        "      div.appendChild(video);\r\n",
        "      video.srcObject = stream;\r\n",
        "      await video.play();\r\n",
        "\r\n",
        "      // Resize the output to fit the video element.\r\n",
        "      google.colab.output.setIframeHeight(document.documentElement.scrollHeight, true);\r\n",
        "\r\n",
        "      // Wait for Capture to be clicked.\r\n",
        "      await new Promise((resolve) => capture.onclick = resolve);\r\n",
        "\r\n",
        "      const canvas = document.createElement('canvas');\r\n",
        "      canvas.width = video.videoWidth;\r\n",
        "      canvas.height = video.videoHeight;\r\n",
        "      canvas.getContext('2d').drawImage(video, 0, 0);\r\n",
        "      stream.getVideoTracks()[0].stop();\r\n",
        "      div.remove();\r\n",
        "      return canvas.toDataURL('image/jpeg', quality);\r\n",
        "    }\r\n",
        "    ''')\r\n",
        "  display(js)\r\n",
        "  data = eval_js('takePhoto({})'.format(quality))\r\n",
        "  binary = b64decode(data.split(',')[1])\r\n",
        "  with open(filename, 'wb') as f:\r\n",
        "    f.write(binary)\r\n",
        "  return filename"
      ],
      "execution_count": 7,
      "outputs": []
    },
    {
      "cell_type": "code",
      "metadata": {
        "colab": {
          "base_uri": "https://localhost:8080/",
          "height": 515
        },
        "id": "Tzi9iYQA-aaV",
        "outputId": "230d372d-6135-489d-9476-57e90bcc40cb"
      },
      "source": [
        "from IPython.display import Image\r\n",
        "try:\r\n",
        "  filename = take_photo()\r\n",
        "  print('Saved to {}'.format(filename))\r\n",
        "  \r\n",
        "  # Show the image which was just taken.\r\n",
        "  display(Image(filename))\r\n",
        "except Exception as err:\r\n",
        "  # Errors will be thrown if the user does not have a webcam or if they do not\r\n",
        "  # grant the page permission to access it.\r\n",
        "  print(str(err))"
      ],
      "execution_count": 8,
      "outputs": [
        {
          "output_type": "display_data",
          "data": {
            "application/javascript": [
              "\n",
              "    async function takePhoto(quality) {\n",
              "      const div = document.createElement('div');\n",
              "      const capture = document.createElement('button');\n",
              "      capture.textContent = 'Capture';\n",
              "      div.appendChild(capture);\n",
              "\n",
              "      const video = document.createElement('video');\n",
              "      video.style.display = 'block';\n",
              "      const stream = await navigator.mediaDevices.getUserMedia({video: true});\n",
              "\n",
              "      document.body.appendChild(div);\n",
              "      div.appendChild(video);\n",
              "      video.srcObject = stream;\n",
              "      await video.play();\n",
              "\n",
              "      // Resize the output to fit the video element.\n",
              "      google.colab.output.setIframeHeight(document.documentElement.scrollHeight, true);\n",
              "\n",
              "      // Wait for Capture to be clicked.\n",
              "      await new Promise((resolve) => capture.onclick = resolve);\n",
              "\n",
              "      const canvas = document.createElement('canvas');\n",
              "      canvas.width = video.videoWidth;\n",
              "      canvas.height = video.videoHeight;\n",
              "      canvas.getContext('2d').drawImage(video, 0, 0);\n",
              "      stream.getVideoTracks()[0].stop();\n",
              "      div.remove();\n",
              "      return canvas.toDataURL('image/jpeg', quality);\n",
              "    }\n",
              "    "
            ],
            "text/plain": [
              "<IPython.core.display.Javascript object>"
            ]
          },
          "metadata": {
            "tags": []
          }
        },
        {
          "output_type": "stream",
          "text": [
            "Saved to photo.jpg\n"
          ],
          "name": "stdout"
        },
        {
          "output_type": "display_data",
          "data": {
            "image/jpeg": "[encoded data removed]",
            "text/plain": [
              "<IPython.core.display.Image object>"
            ]
          },
          "metadata": {
            "tags": []
          }
        }
      ]
    },
    {
      "cell_type": "code",
      "metadata": {
        "id": "Iy_-6jRs-3nn"
      },
      "source": [
        "from fastai.vision.all import *\r\n",
        "from fastai.vision.widgets import *"
      ],
      "execution_count": null,
      "outputs": []
    },
    {
      "cell_type": "code",
      "metadata": {
        "id": "bBsqyrCu-0VQ"
      },
      "source": [
        "download_url('https://github.com/pds2021/course/releases/download/models/bear_classifier.pkl', 'bear_classifier.pkl')\r\n",
        "learn_inf = load_learner('bear_classifier.pkl', cpu=True)\r\n",
        "btn_upload = widgets.FileUpload()\r\n",
        "btn_run = widgets.Button(description='Classify')\r\n",
        "out_pl = widgets.Output()\r\n",
        "lbl_pred = widgets.Label()\r\n",
        "\r\n",
        "def on_click_classify(change):\r\n",
        "    img = PILImage.create(btn_upload.data[-1])\r\n",
        "    out_pl.clear_output()\r\n",
        "    with out_pl: display(img.to_thumb(512,512))\r\n",
        "    pred,pred_idx,probs = learn_inf.predict(img)\r\n",
        "    lbl_pred.value = f'Prediction: {pred}; Probability: {probs[pred_idx]:.04f}'\r\n",
        "\r\n",
        "btn_run.on_click(on_click_classify)\r\n",
        "VBox([widgets.Label('Select your bear!'), \r\n",
        "      btn_upload, btn_run, out_pl, lbl_pred])"
      ],
      "execution_count": null,
      "outputs": []
    }
  ]
}